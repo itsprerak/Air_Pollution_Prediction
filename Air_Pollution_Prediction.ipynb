{
  "nbformat": 4,
  "nbformat_minor": 0,
  "metadata": {
    "colab": {
      "name": "PBL_Air_Pollution.ipynb",
      "provenance": [],
      "collapsed_sections": []
    },
    "kernelspec": {
      "name": "python3",
      "display_name": "Python 3"
    },
    "language_info": {
      "name": "python"
    }
  },
  "cells": [
    {
      "cell_type": "markdown",
      "metadata": {
        "id": "xO9uJ0Vyu6Ax"
      },
      "source": [
        "# **Air Pollution Prediction - PBL**\n",
        "\n",
        "## TE COMP B - GROUP 1 - Track 5\n",
        "\n",
        "###### Prerak Khandelwal - 22\n",
        "###### Deep Kothari - 23\n",
        "###### Jenil Mandavia - 30\n",
        "###### Siddhesh Marketkar - 32"
      ]
    },
    {
      "cell_type": "markdown",
      "metadata": {
        "id": "-Xbe4hSo_BXP"
      },
      "source": [
        "## Importing Libraries"
      ]
    },
    {
      "cell_type": "code",
      "metadata": {
        "id": "1hCqEEHj9Qwt"
      },
      "source": [
        "#importing the required libraries\n",
        "import pandas as pd\n",
        "import numpy as np\n",
        "import matplotlib.pyplot as plt\n",
        "import seaborn as sns"
      ],
      "execution_count": null,
      "outputs": []
    },
    {
      "cell_type": "markdown",
      "metadata": {
        "id": "GiYFx0dr_HDS"
      },
      "source": [
        "## Loading Dataset"
      ]
    },
    {
      "cell_type": "code",
      "metadata": {
        "id": "BXOVq_Cw_Eq8"
      },
      "source": [
        "df = pd.read_csv(\"/content/city_day.csv\")"
      ],
      "execution_count": null,
      "outputs": []
    },
    {
      "cell_type": "code",
      "metadata": {
        "colab": {
          "base_uri": "https://localhost:8080/",
          "height": 202
        },
        "id": "UhkBYZI-_Kpc",
        "outputId": "21a3f6a7-af47-4c17-8692-82ea79d97be1"
      },
      "source": [
        "df.head()"
      ],
      "execution_count": null,
      "outputs": [
        {
          "output_type": "execute_result",
          "data": {
            "text/html": [
              "<div>\n",
              "<style scoped>\n",
              "    .dataframe tbody tr th:only-of-type {\n",
              "        vertical-align: middle;\n",
              "    }\n",
              "\n",
              "    .dataframe tbody tr th {\n",
              "        vertical-align: top;\n",
              "    }\n",
              "\n",
              "    .dataframe thead th {\n",
              "        text-align: right;\n",
              "    }\n",
              "</style>\n",
              "<table border=\"1\" class=\"dataframe\">\n",
              "  <thead>\n",
              "    <tr style=\"text-align: right;\">\n",
              "      <th></th>\n",
              "      <th>City</th>\n",
              "      <th>Date</th>\n",
              "      <th>PM2.5</th>\n",
              "      <th>PM10</th>\n",
              "      <th>NO</th>\n",
              "      <th>NO2</th>\n",
              "      <th>NOx</th>\n",
              "      <th>NH3</th>\n",
              "      <th>CO</th>\n",
              "      <th>SO2</th>\n",
              "      <th>O3</th>\n",
              "      <th>Benzene</th>\n",
              "      <th>Toluene</th>\n",
              "      <th>Xylene</th>\n",
              "      <th>AQI</th>\n",
              "      <th>AQI_Bucket</th>\n",
              "    </tr>\n",
              "  </thead>\n",
              "  <tbody>\n",
              "    <tr>\n",
              "      <th>0</th>\n",
              "      <td>Ahmedabad</td>\n",
              "      <td>2015-01-01</td>\n",
              "      <td>NaN</td>\n",
              "      <td>NaN</td>\n",
              "      <td>0.92</td>\n",
              "      <td>18.22</td>\n",
              "      <td>17.15</td>\n",
              "      <td>NaN</td>\n",
              "      <td>0.92</td>\n",
              "      <td>27.64</td>\n",
              "      <td>133.36</td>\n",
              "      <td>0.00</td>\n",
              "      <td>0.02</td>\n",
              "      <td>0.00</td>\n",
              "      <td>NaN</td>\n",
              "      <td>NaN</td>\n",
              "    </tr>\n",
              "    <tr>\n",
              "      <th>1</th>\n",
              "      <td>Ahmedabad</td>\n",
              "      <td>2015-01-02</td>\n",
              "      <td>NaN</td>\n",
              "      <td>NaN</td>\n",
              "      <td>0.97</td>\n",
              "      <td>15.69</td>\n",
              "      <td>16.46</td>\n",
              "      <td>NaN</td>\n",
              "      <td>0.97</td>\n",
              "      <td>24.55</td>\n",
              "      <td>34.06</td>\n",
              "      <td>3.68</td>\n",
              "      <td>5.50</td>\n",
              "      <td>3.77</td>\n",
              "      <td>NaN</td>\n",
              "      <td>NaN</td>\n",
              "    </tr>\n",
              "    <tr>\n",
              "      <th>2</th>\n",
              "      <td>Ahmedabad</td>\n",
              "      <td>2015-01-03</td>\n",
              "      <td>NaN</td>\n",
              "      <td>NaN</td>\n",
              "      <td>17.40</td>\n",
              "      <td>19.30</td>\n",
              "      <td>29.70</td>\n",
              "      <td>NaN</td>\n",
              "      <td>17.40</td>\n",
              "      <td>29.07</td>\n",
              "      <td>30.70</td>\n",
              "      <td>6.80</td>\n",
              "      <td>16.40</td>\n",
              "      <td>2.25</td>\n",
              "      <td>NaN</td>\n",
              "      <td>NaN</td>\n",
              "    </tr>\n",
              "    <tr>\n",
              "      <th>3</th>\n",
              "      <td>Ahmedabad</td>\n",
              "      <td>2015-01-04</td>\n",
              "      <td>NaN</td>\n",
              "      <td>NaN</td>\n",
              "      <td>1.70</td>\n",
              "      <td>18.48</td>\n",
              "      <td>17.97</td>\n",
              "      <td>NaN</td>\n",
              "      <td>1.70</td>\n",
              "      <td>18.59</td>\n",
              "      <td>36.08</td>\n",
              "      <td>4.43</td>\n",
              "      <td>10.14</td>\n",
              "      <td>1.00</td>\n",
              "      <td>NaN</td>\n",
              "      <td>NaN</td>\n",
              "    </tr>\n",
              "    <tr>\n",
              "      <th>4</th>\n",
              "      <td>Ahmedabad</td>\n",
              "      <td>2015-01-05</td>\n",
              "      <td>NaN</td>\n",
              "      <td>NaN</td>\n",
              "      <td>22.10</td>\n",
              "      <td>21.42</td>\n",
              "      <td>37.76</td>\n",
              "      <td>NaN</td>\n",
              "      <td>22.10</td>\n",
              "      <td>39.33</td>\n",
              "      <td>39.31</td>\n",
              "      <td>7.01</td>\n",
              "      <td>18.89</td>\n",
              "      <td>2.78</td>\n",
              "      <td>NaN</td>\n",
              "      <td>NaN</td>\n",
              "    </tr>\n",
              "  </tbody>\n",
              "</table>\n",
              "</div>"
            ],
            "text/plain": [
              "        City        Date  PM2.5  PM10  ...  Toluene  Xylene  AQI  AQI_Bucket\n",
              "0  Ahmedabad  2015-01-01    NaN   NaN  ...     0.02    0.00  NaN         NaN\n",
              "1  Ahmedabad  2015-01-02    NaN   NaN  ...     5.50    3.77  NaN         NaN\n",
              "2  Ahmedabad  2015-01-03    NaN   NaN  ...    16.40    2.25  NaN         NaN\n",
              "3  Ahmedabad  2015-01-04    NaN   NaN  ...    10.14    1.00  NaN         NaN\n",
              "4  Ahmedabad  2015-01-05    NaN   NaN  ...    18.89    2.78  NaN         NaN\n",
              "\n",
              "[5 rows x 16 columns]"
            ]
          },
          "metadata": {},
          "execution_count": 144
        }
      ]
    },
    {
      "cell_type": "code",
      "metadata": {
        "colab": {
          "base_uri": "https://localhost:8080/"
        },
        "id": "WlJCfTNx_NFd",
        "outputId": "481878c4-10a9-4f62-8727-e972c80315db"
      },
      "source": [
        "df.shape"
      ],
      "execution_count": null,
      "outputs": [
        {
          "output_type": "execute_result",
          "data": {
            "text/plain": [
              "(29531, 16)"
            ]
          },
          "metadata": {},
          "execution_count": 145
        }
      ]
    },
    {
      "cell_type": "code",
      "metadata": {
        "colab": {
          "base_uri": "https://localhost:8080/"
        },
        "id": "dcEjZwqS_Omm",
        "outputId": "a7cc69fb-15f9-443b-d014-cb0d5dcfcac6"
      },
      "source": [
        "df.info()"
      ],
      "execution_count": null,
      "outputs": [
        {
          "output_type": "stream",
          "name": "stdout",
          "text": [
            "<class 'pandas.core.frame.DataFrame'>\n",
            "RangeIndex: 29531 entries, 0 to 29530\n",
            "Data columns (total 16 columns):\n",
            " #   Column      Non-Null Count  Dtype  \n",
            "---  ------      --------------  -----  \n",
            " 0   City        29531 non-null  object \n",
            " 1   Date        29531 non-null  object \n",
            " 2   PM2.5       24933 non-null  float64\n",
            " 3   PM10        18391 non-null  float64\n",
            " 4   NO          25949 non-null  float64\n",
            " 5   NO2         25946 non-null  float64\n",
            " 6   NOx         25346 non-null  float64\n",
            " 7   NH3         19203 non-null  float64\n",
            " 8   CO          27472 non-null  float64\n",
            " 9   SO2         25677 non-null  float64\n",
            " 10  O3          25509 non-null  float64\n",
            " 11  Benzene     23908 non-null  float64\n",
            " 12  Toluene     21490 non-null  float64\n",
            " 13  Xylene      11422 non-null  float64\n",
            " 14  AQI         24850 non-null  float64\n",
            " 15  AQI_Bucket  24850 non-null  object \n",
            "dtypes: float64(13), object(3)\n",
            "memory usage: 3.6+ MB\n"
          ]
        }
      ]
    },
    {
      "cell_type": "markdown",
      "metadata": {
        "id": "YXyASBUZ_TnR"
      },
      "source": [
        "## Missing values"
      ]
    },
    {
      "cell_type": "code",
      "metadata": {
        "id": "bvYBBk-N_PqX"
      },
      "source": [
        "# We drop the Xylene column as it has too many NULL values\n",
        "# Dropping rows containing null values in AQI, CO\n",
        "df.dropna(subset = ['AQI', 'CO'], inplace = True)\n",
        "df.drop(['Xylene'],axis = 1, inplace = True)"
      ],
      "execution_count": null,
      "outputs": []
    },
    {
      "cell_type": "code",
      "metadata": {
        "colab": {
          "base_uri": "https://localhost:8080/",
          "height": 1000
        },
        "id": "qMnPf03-_XWF",
        "outputId": "3844c14a-bad6-4ffe-caf2-b06f823b8ab1"
      },
      "source": [
        "# Data Visualization - Dist Plot for finding way of imputing missing values\n",
        "sns.displot(df['PM2.5']) \n",
        "sns.displot(df['PM10']) \n",
        "sns.displot(df['NO'])\n",
        "sns.displot(df['NO2'])\n",
        "sns.displot(df['NOx']) \n",
        "sns.displot(df['NH3']) \n",
        "sns.displot(df['SO2'])\n",
        "sns.displot(df['O3'])\n",
        "sns.displot(df['Benzene'])\n",
        "sns.displot(df['Toluene'])"
      ],
      "execution_count": null,
      "outputs": [
        {
          "output_type": "execute_result",
          "data": {
            "text/plain": [
              "<seaborn.axisgrid.FacetGrid at 0x7f4752a3f2d0>"
            ]
          },
          "metadata": {},
          "execution_count": 148
        },
        {
          "output_type": "display_data",
          "data": {
            "image/png": "[encoded data removed]",
            "text/plain": [
              "<Figure size 360x360 with 1 Axes>"
            ]
          },
          "metadata": {
            "needs_background": "light"
          }
        },
        {
          "output_type": "display_data",
          "data": {
            "image/png": "[encoded data removed]",
            "text/plain": [
              "<Figure size 360x360 with 1 Axes>"
            ]
          },
          "metadata": {
            "needs_background": "light"
          }
        },
        {
          "output_type": "display_data",
          "data": {
            "image/png": "[encoded data removed]",
            "text/plain": [
              "<Figure size 360x360 with 1 Axes>"
            ]
          },
          "metadata": {
            "needs_background": "light"
          }
        },
        {
          "output_type": "display_data",
          "data": {
            "image/png": "[encoded data removed]",
            "text/plain": [
              "<Figure size 360x360 with 1 Axes>"
            ]
          },
          "metadata": {
            "needs_background": "light"
          }
        },
        {
          "output_type": "display_data",
          "data": {
            "image/png": "[encoded data removed]",
            "text/plain": [
              "<Figure size 360x360 with 1 Axes>"
            ]
          },
          "metadata": {
            "needs_background": "light"
          }
        },
        {
          "output_type": "display_data",
          "data": {
            "image/png": "[encoded data removed]",
            "text/plain": [
              "<Figure size 360x360 with 1 Axes>"
            ]
          },
          "metadata": {
            "needs_background": "light"
          }
        },
        {
          "output_type": "display_data",
          "data": {
            "image/png": "[encoded data removed]",
            "text/plain": [
              "<Figure size 360x360 with 1 Axes>"
            ]
          },
          "metadata": {
            "needs_background": "light"
          }
        },
        {
          "output_type": "display_data",
          "data": {
            "image/png": "[encoded data removed]",
            "text/plain": [
              "<Figure size 360x360 with 1 Axes>"
            ]
          },
          "metadata": {
            "needs_background": "light"
          }
        },
        {
          "output_type": "display_data",
          "data": {
            "image/png": "[encoded data removed]",
            "text/plain": [
              "<Figure size 360x360 with 1 Axes>"
            ]
          },
          "metadata": {
            "needs_background": "light"
          }
        },
        {
          "output_type": "display_data",
          "data": {
            "image/png": "[encoded data removed]",
            "text/plain": [
              "<Figure size 360x360 with 1 Axes>"
            ]
          },
          "metadata": {
            "needs_background": "light"
          }
        }
      ]
    },
    {
      "cell_type": "code",
      "metadata": {
        "id": "kCGLl_7s_ci6"
      },
      "source": [
        "# Replacing Missing values with mode in column\n",
        "for column in ['PM2.5', 'PM10', 'NO', 'NO2', 'NOx', 'NH3', 'SO2', 'O3', 'Benzene', 'Toluene']:\n",
        "    df[column] = df[column].fillna(df[column].mode()[0])"
      ],
      "execution_count": null,
      "outputs": []
    },
    {
      "cell_type": "code",
      "metadata": {
        "colab": {
          "base_uri": "https://localhost:8080/"
        },
        "id": "GtCyBzuP_gtP",
        "outputId": "59a9316e-3928-4c27-b1b8-310b88f5a187"
      },
      "source": [
        "df.info()"
      ],
      "execution_count": null,
      "outputs": [
        {
          "output_type": "stream",
          "name": "stdout",
          "text": [
            "<class 'pandas.core.frame.DataFrame'>\n",
            "Int64Index: 24405 entries, 28 to 29530\n",
            "Data columns (total 15 columns):\n",
            " #   Column      Non-Null Count  Dtype  \n",
            "---  ------      --------------  -----  \n",
            " 0   City        24405 non-null  object \n",
            " 1   Date        24405 non-null  object \n",
            " 2   PM2.5       24405 non-null  float64\n",
            " 3   PM10        24405 non-null  float64\n",
            " 4   NO          24405 non-null  float64\n",
            " 5   NO2         24405 non-null  float64\n",
            " 6   NOx         24405 non-null  float64\n",
            " 7   NH3         24405 non-null  float64\n",
            " 8   CO          24405 non-null  float64\n",
            " 9   SO2         24405 non-null  float64\n",
            " 10  O3          24405 non-null  float64\n",
            " 11  Benzene     24405 non-null  float64\n",
            " 12  Toluene     24405 non-null  float64\n",
            " 13  AQI         24405 non-null  float64\n",
            " 14  AQI_Bucket  24405 non-null  object \n",
            "dtypes: float64(12), object(3)\n",
            "memory usage: 3.0+ MB\n"
          ]
        }
      ]
    },
    {
      "cell_type": "code",
      "metadata": {
        "colab": {
          "base_uri": "https://localhost:8080/"
        },
        "id": "1grPLmYN_moB",
        "outputId": "a8b7753e-568c-473f-d101-d1674b643db8"
      },
      "source": [
        "df.shape"
      ],
      "execution_count": null,
      "outputs": [
        {
          "output_type": "execute_result",
          "data": {
            "text/plain": [
              "(24405, 15)"
            ]
          },
          "metadata": {},
          "execution_count": 151
        }
      ]
    },
    {
      "cell_type": "markdown",
      "metadata": {
        "id": "u5knu7Tj_utE"
      },
      "source": [
        "## Data Preprocessing"
      ]
    },
    {
      "cell_type": "code",
      "metadata": {
        "id": "sweQaGce_otk"
      },
      "source": [
        "# We extract out the year and month data\n",
        "def preprocessing(df):\n",
        "    df['Date'] = pd.to_datetime(df['Date'])\n",
        "    df['Year'] = [d.year for d in df['Date']]\n",
        "    df['Month'] = [d.month for d in df['Date']]\n",
        "    del df['Date']\n",
        "    return df"
      ],
      "execution_count": null,
      "outputs": []
    },
    {
      "cell_type": "code",
      "metadata": {
        "colab": {
          "base_uri": "https://localhost:8080/",
          "height": 414
        },
        "id": "8c5pcs5T_0TD",
        "outputId": "a38edd6c-6f57-40ad-c016-71cfdfe6d684"
      },
      "source": [
        "preprocessing(df)"
      ],
      "execution_count": null,
      "outputs": [
        {
          "output_type": "execute_result",
          "data": {
            "text/html": [
              "<div>\n",
              "<style scoped>\n",
              "    .dataframe tbody tr th:only-of-type {\n",
              "        vertical-align: middle;\n",
              "    }\n",
              "\n",
              "    .dataframe tbody tr th {\n",
              "        vertical-align: top;\n",
              "    }\n",
              "\n",
              "    .dataframe thead th {\n",
              "        text-align: right;\n",
              "    }\n",
              "</style>\n",
              "<table border=\"1\" class=\"dataframe\">\n",
              "  <thead>\n",
              "    <tr style=\"text-align: right;\">\n",
              "      <th></th>\n",
              "      <th>City</th>\n",
              "      <th>PM2.5</th>\n",
              "      <th>PM10</th>\n",
              "      <th>NO</th>\n",
              "      <th>NO2</th>\n",
              "      <th>NOx</th>\n",
              "      <th>NH3</th>\n",
              "      <th>CO</th>\n",
              "      <th>SO2</th>\n",
              "      <th>O3</th>\n",
              "      <th>Benzene</th>\n",
              "      <th>Toluene</th>\n",
              "      <th>AQI</th>\n",
              "      <th>AQI_Bucket</th>\n",
              "      <th>Year</th>\n",
              "      <th>Month</th>\n",
              "    </tr>\n",
              "  </thead>\n",
              "  <tbody>\n",
              "    <tr>\n",
              "      <th>28</th>\n",
              "      <td>Ahmedabad</td>\n",
              "      <td>83.13</td>\n",
              "      <td>94.00</td>\n",
              "      <td>6.93</td>\n",
              "      <td>28.71</td>\n",
              "      <td>33.72</td>\n",
              "      <td>10.46</td>\n",
              "      <td>6.93</td>\n",
              "      <td>49.52</td>\n",
              "      <td>59.76</td>\n",
              "      <td>0.02</td>\n",
              "      <td>0.00</td>\n",
              "      <td>209.0</td>\n",
              "      <td>Poor</td>\n",
              "      <td>2015</td>\n",
              "      <td>1</td>\n",
              "    </tr>\n",
              "    <tr>\n",
              "      <th>29</th>\n",
              "      <td>Ahmedabad</td>\n",
              "      <td>79.84</td>\n",
              "      <td>94.00</td>\n",
              "      <td>13.85</td>\n",
              "      <td>28.68</td>\n",
              "      <td>41.08</td>\n",
              "      <td>10.46</td>\n",
              "      <td>13.85</td>\n",
              "      <td>48.49</td>\n",
              "      <td>97.07</td>\n",
              "      <td>0.04</td>\n",
              "      <td>0.00</td>\n",
              "      <td>328.0</td>\n",
              "      <td>Very Poor</td>\n",
              "      <td>2015</td>\n",
              "      <td>1</td>\n",
              "    </tr>\n",
              "    <tr>\n",
              "      <th>30</th>\n",
              "      <td>Ahmedabad</td>\n",
              "      <td>94.52</td>\n",
              "      <td>94.00</td>\n",
              "      <td>24.39</td>\n",
              "      <td>32.66</td>\n",
              "      <td>52.61</td>\n",
              "      <td>10.46</td>\n",
              "      <td>24.39</td>\n",
              "      <td>67.39</td>\n",
              "      <td>111.33</td>\n",
              "      <td>0.24</td>\n",
              "      <td>0.01</td>\n",
              "      <td>514.0</td>\n",
              "      <td>Severe</td>\n",
              "      <td>2015</td>\n",
              "      <td>1</td>\n",
              "    </tr>\n",
              "    <tr>\n",
              "      <th>31</th>\n",
              "      <td>Ahmedabad</td>\n",
              "      <td>135.99</td>\n",
              "      <td>94.00</td>\n",
              "      <td>43.48</td>\n",
              "      <td>42.08</td>\n",
              "      <td>84.57</td>\n",
              "      <td>10.46</td>\n",
              "      <td>43.48</td>\n",
              "      <td>75.23</td>\n",
              "      <td>102.70</td>\n",
              "      <td>0.40</td>\n",
              "      <td>0.04</td>\n",
              "      <td>782.0</td>\n",
              "      <td>Severe</td>\n",
              "      <td>2015</td>\n",
              "      <td>2</td>\n",
              "    </tr>\n",
              "    <tr>\n",
              "      <th>32</th>\n",
              "      <td>Ahmedabad</td>\n",
              "      <td>178.33</td>\n",
              "      <td>94.00</td>\n",
              "      <td>54.56</td>\n",
              "      <td>35.31</td>\n",
              "      <td>72.80</td>\n",
              "      <td>10.46</td>\n",
              "      <td>54.56</td>\n",
              "      <td>55.04</td>\n",
              "      <td>107.38</td>\n",
              "      <td>0.46</td>\n",
              "      <td>0.06</td>\n",
              "      <td>914.0</td>\n",
              "      <td>Severe</td>\n",
              "      <td>2015</td>\n",
              "      <td>2</td>\n",
              "    </tr>\n",
              "    <tr>\n",
              "      <th>...</th>\n",
              "      <td>...</td>\n",
              "      <td>...</td>\n",
              "      <td>...</td>\n",
              "      <td>...</td>\n",
              "      <td>...</td>\n",
              "      <td>...</td>\n",
              "      <td>...</td>\n",
              "      <td>...</td>\n",
              "      <td>...</td>\n",
              "      <td>...</td>\n",
              "      <td>...</td>\n",
              "      <td>...</td>\n",
              "      <td>...</td>\n",
              "      <td>...</td>\n",
              "      <td>...</td>\n",
              "      <td>...</td>\n",
              "    </tr>\n",
              "    <tr>\n",
              "      <th>29526</th>\n",
              "      <td>Visakhapatnam</td>\n",
              "      <td>15.02</td>\n",
              "      <td>50.94</td>\n",
              "      <td>7.68</td>\n",
              "      <td>25.06</td>\n",
              "      <td>19.54</td>\n",
              "      <td>12.47</td>\n",
              "      <td>0.47</td>\n",
              "      <td>8.55</td>\n",
              "      <td>23.30</td>\n",
              "      <td>2.24</td>\n",
              "      <td>12.07</td>\n",
              "      <td>41.0</td>\n",
              "      <td>Good</td>\n",
              "      <td>2020</td>\n",
              "      <td>6</td>\n",
              "    </tr>\n",
              "    <tr>\n",
              "      <th>29527</th>\n",
              "      <td>Visakhapatnam</td>\n",
              "      <td>24.38</td>\n",
              "      <td>74.09</td>\n",
              "      <td>3.42</td>\n",
              "      <td>26.06</td>\n",
              "      <td>16.53</td>\n",
              "      <td>11.99</td>\n",
              "      <td>0.52</td>\n",
              "      <td>12.72</td>\n",
              "      <td>30.14</td>\n",
              "      <td>0.74</td>\n",
              "      <td>2.21</td>\n",
              "      <td>70.0</td>\n",
              "      <td>Satisfactory</td>\n",
              "      <td>2020</td>\n",
              "      <td>6</td>\n",
              "    </tr>\n",
              "    <tr>\n",
              "      <th>29528</th>\n",
              "      <td>Visakhapatnam</td>\n",
              "      <td>22.91</td>\n",
              "      <td>65.73</td>\n",
              "      <td>3.45</td>\n",
              "      <td>29.53</td>\n",
              "      <td>18.33</td>\n",
              "      <td>10.71</td>\n",
              "      <td>0.48</td>\n",
              "      <td>8.42</td>\n",
              "      <td>30.96</td>\n",
              "      <td>0.01</td>\n",
              "      <td>0.01</td>\n",
              "      <td>68.0</td>\n",
              "      <td>Satisfactory</td>\n",
              "      <td>2020</td>\n",
              "      <td>6</td>\n",
              "    </tr>\n",
              "    <tr>\n",
              "      <th>29529</th>\n",
              "      <td>Visakhapatnam</td>\n",
              "      <td>16.64</td>\n",
              "      <td>49.97</td>\n",
              "      <td>4.05</td>\n",
              "      <td>29.26</td>\n",
              "      <td>18.80</td>\n",
              "      <td>10.03</td>\n",
              "      <td>0.52</td>\n",
              "      <td>9.84</td>\n",
              "      <td>28.30</td>\n",
              "      <td>0.00</td>\n",
              "      <td>0.00</td>\n",
              "      <td>54.0</td>\n",
              "      <td>Satisfactory</td>\n",
              "      <td>2020</td>\n",
              "      <td>6</td>\n",
              "    </tr>\n",
              "    <tr>\n",
              "      <th>29530</th>\n",
              "      <td>Visakhapatnam</td>\n",
              "      <td>15.00</td>\n",
              "      <td>66.00</td>\n",
              "      <td>0.40</td>\n",
              "      <td>26.85</td>\n",
              "      <td>14.05</td>\n",
              "      <td>5.20</td>\n",
              "      <td>0.59</td>\n",
              "      <td>2.10</td>\n",
              "      <td>17.05</td>\n",
              "      <td>0.00</td>\n",
              "      <td>0.00</td>\n",
              "      <td>50.0</td>\n",
              "      <td>Good</td>\n",
              "      <td>2020</td>\n",
              "      <td>7</td>\n",
              "    </tr>\n",
              "  </tbody>\n",
              "</table>\n",
              "<p>24405 rows × 16 columns</p>\n",
              "</div>"
            ],
            "text/plain": [
              "                City   PM2.5   PM10     NO  ...    AQI    AQI_Bucket  Year  Month\n",
              "28         Ahmedabad   83.13  94.00   6.93  ...  209.0          Poor  2015      1\n",
              "29         Ahmedabad   79.84  94.00  13.85  ...  328.0     Very Poor  2015      1\n",
              "30         Ahmedabad   94.52  94.00  24.39  ...  514.0        Severe  2015      1\n",
              "31         Ahmedabad  135.99  94.00  43.48  ...  782.0        Severe  2015      2\n",
              "32         Ahmedabad  178.33  94.00  54.56  ...  914.0        Severe  2015      2\n",
              "...              ...     ...    ...    ...  ...    ...           ...   ...    ...\n",
              "29526  Visakhapatnam   15.02  50.94   7.68  ...   41.0          Good  2020      6\n",
              "29527  Visakhapatnam   24.38  74.09   3.42  ...   70.0  Satisfactory  2020      6\n",
              "29528  Visakhapatnam   22.91  65.73   3.45  ...   68.0  Satisfactory  2020      6\n",
              "29529  Visakhapatnam   16.64  49.97   4.05  ...   54.0  Satisfactory  2020      6\n",
              "29530  Visakhapatnam   15.00  66.00   0.40  ...   50.0          Good  2020      7\n",
              "\n",
              "[24405 rows x 16 columns]"
            ]
          },
          "metadata": {},
          "execution_count": 153
        }
      ]
    },
    {
      "cell_type": "markdown",
      "metadata": {
        "id": "t4tlKhO5KBaZ"
      },
      "source": [
        "## Encoding Categorical Variables"
      ]
    },
    {
      "cell_type": "code",
      "metadata": {
        "colab": {
          "base_uri": "https://localhost:8080/"
        },
        "id": "bk7mh0m3_2Xg",
        "outputId": "5bea9840-8106-4340-c105-4081a9350289"
      },
      "source": [
        "#List of cities for which we have the data\n",
        "cities = df['City'].unique()\n",
        "cities"
      ],
      "execution_count": null,
      "outputs": [
        {
          "output_type": "execute_result",
          "data": {
            "text/plain": [
              "array(['Ahmedabad', 'Aizawl', 'Amaravati', 'Amritsar', 'Bengaluru',\n",
              "       'Bhopal', 'Brajrajnagar', 'Chandigarh', 'Chennai', 'Coimbatore',\n",
              "       'Delhi', 'Ernakulam', 'Gurugram', 'Guwahati', 'Hyderabad',\n",
              "       'Jaipur', 'Jorapokhar', 'Kochi', 'Kolkata', 'Lucknow', 'Mumbai',\n",
              "       'Patna', 'Shillong', 'Talcher', 'Thiruvananthapuram',\n",
              "       'Visakhapatnam'], dtype=object)"
            ]
          },
          "metadata": {},
          "execution_count": 154
        }
      ]
    },
    {
      "cell_type": "markdown",
      "metadata": {
        "id": "VD88ta1PKKRT"
      },
      "source": [
        "##### Sturge’s Rule\n",
        "###### K = 1 + 3. 322 logN\n",
        "###### where:\n",
        "###### K = number of class intervals (bins).\n",
        "###### N = number of observations in the set.\n",
        "###### log = logarithm of the number."
      ]
    },
    {
      "cell_type": "code",
      "metadata": {
        "id": "-G0IblReKECn"
      },
      "source": [
        "# Binning\n",
        "City_Table = df.groupby('City').agg({'AQI':'mean'}).sort_values('AQI',ascending = True)"
      ],
      "execution_count": null,
      "outputs": []
    },
    {
      "cell_type": "code",
      "metadata": {
        "id": "r2L91LzkKJGE"
      },
      "source": [
        "# Creating 10 bins\n",
        "City_Table['City_Group'] = pd.cut(City_Table['AQI'], bins = 6,\n",
        "                                    labels = ['A',\n",
        "                                              'B',\n",
        "                                              'C',\n",
        "                                              'D',\n",
        "                                              'E',\n",
        "                                              'F'] , \n",
        "                                    include_lowest = True)"
      ],
      "execution_count": null,
      "outputs": []
    },
    {
      "cell_type": "code",
      "metadata": {
        "id": "2WOBx4CmKPAy"
      },
      "source": [
        "City_Table = City_Table.drop(columns = 'AQI')"
      ],
      "execution_count": null,
      "outputs": []
    },
    {
      "cell_type": "code",
      "metadata": {
        "id": "9B2I2gIoKTKG"
      },
      "source": [
        "df = pd.merge(df, City_Table, left_on='City', how = 'left', right_index=True)"
      ],
      "execution_count": null,
      "outputs": []
    },
    {
      "cell_type": "code",
      "metadata": {
        "id": "TtG7b18zKVVM"
      },
      "source": [
        "df = df.drop(columns = 'City')"
      ],
      "execution_count": null,
      "outputs": []
    },
    {
      "cell_type": "code",
      "metadata": {
        "colab": {
          "base_uri": "https://localhost:8080/",
          "height": 414
        },
        "id": "53QbH4BqKXue",
        "outputId": "96cd5b4a-17da-4208-eac4-88bd67b9c559"
      },
      "source": [
        "df"
      ],
      "execution_count": null,
      "outputs": [
        {
          "output_type": "execute_result",
          "data": {
            "text/html": [
              "<div>\n",
              "<style scoped>\n",
              "    .dataframe tbody tr th:only-of-type {\n",
              "        vertical-align: middle;\n",
              "    }\n",
              "\n",
              "    .dataframe tbody tr th {\n",
              "        vertical-align: top;\n",
              "    }\n",
              "\n",
              "    .dataframe thead th {\n",
              "        text-align: right;\n",
              "    }\n",
              "</style>\n",
              "<table border=\"1\" class=\"dataframe\">\n",
              "  <thead>\n",
              "    <tr style=\"text-align: right;\">\n",
              "      <th></th>\n",
              "      <th>PM2.5</th>\n",
              "      <th>PM10</th>\n",
              "      <th>NO</th>\n",
              "      <th>NO2</th>\n",
              "      <th>NOx</th>\n",
              "      <th>NH3</th>\n",
              "      <th>CO</th>\n",
              "      <th>SO2</th>\n",
              "      <th>O3</th>\n",
              "      <th>Benzene</th>\n",
              "      <th>Toluene</th>\n",
              "      <th>AQI</th>\n",
              "      <th>AQI_Bucket</th>\n",
              "      <th>Year</th>\n",
              "      <th>Month</th>\n",
              "      <th>City_Group</th>\n",
              "    </tr>\n",
              "  </thead>\n",
              "  <tbody>\n",
              "    <tr>\n",
              "      <th>28</th>\n",
              "      <td>83.13</td>\n",
              "      <td>94.00</td>\n",
              "      <td>6.93</td>\n",
              "      <td>28.71</td>\n",
              "      <td>33.72</td>\n",
              "      <td>10.46</td>\n",
              "      <td>6.93</td>\n",
              "      <td>49.52</td>\n",
              "      <td>59.76</td>\n",
              "      <td>0.02</td>\n",
              "      <td>0.00</td>\n",
              "      <td>209.0</td>\n",
              "      <td>Poor</td>\n",
              "      <td>2015</td>\n",
              "      <td>1</td>\n",
              "      <td>F</td>\n",
              "    </tr>\n",
              "    <tr>\n",
              "      <th>29</th>\n",
              "      <td>79.84</td>\n",
              "      <td>94.00</td>\n",
              "      <td>13.85</td>\n",
              "      <td>28.68</td>\n",
              "      <td>41.08</td>\n",
              "      <td>10.46</td>\n",
              "      <td>13.85</td>\n",
              "      <td>48.49</td>\n",
              "      <td>97.07</td>\n",
              "      <td>0.04</td>\n",
              "      <td>0.00</td>\n",
              "      <td>328.0</td>\n",
              "      <td>Very Poor</td>\n",
              "      <td>2015</td>\n",
              "      <td>1</td>\n",
              "      <td>F</td>\n",
              "    </tr>\n",
              "    <tr>\n",
              "      <th>30</th>\n",
              "      <td>94.52</td>\n",
              "      <td>94.00</td>\n",
              "      <td>24.39</td>\n",
              "      <td>32.66</td>\n",
              "      <td>52.61</td>\n",
              "      <td>10.46</td>\n",
              "      <td>24.39</td>\n",
              "      <td>67.39</td>\n",
              "      <td>111.33</td>\n",
              "      <td>0.24</td>\n",
              "      <td>0.01</td>\n",
              "      <td>514.0</td>\n",
              "      <td>Severe</td>\n",
              "      <td>2015</td>\n",
              "      <td>1</td>\n",
              "      <td>F</td>\n",
              "    </tr>\n",
              "    <tr>\n",
              "      <th>31</th>\n",
              "      <td>135.99</td>\n",
              "      <td>94.00</td>\n",
              "      <td>43.48</td>\n",
              "      <td>42.08</td>\n",
              "      <td>84.57</td>\n",
              "      <td>10.46</td>\n",
              "      <td>43.48</td>\n",
              "      <td>75.23</td>\n",
              "      <td>102.70</td>\n",
              "      <td>0.40</td>\n",
              "      <td>0.04</td>\n",
              "      <td>782.0</td>\n",
              "      <td>Severe</td>\n",
              "      <td>2015</td>\n",
              "      <td>2</td>\n",
              "      <td>F</td>\n",
              "    </tr>\n",
              "    <tr>\n",
              "      <th>32</th>\n",
              "      <td>178.33</td>\n",
              "      <td>94.00</td>\n",
              "      <td>54.56</td>\n",
              "      <td>35.31</td>\n",
              "      <td>72.80</td>\n",
              "      <td>10.46</td>\n",
              "      <td>54.56</td>\n",
              "      <td>55.04</td>\n",
              "      <td>107.38</td>\n",
              "      <td>0.46</td>\n",
              "      <td>0.06</td>\n",
              "      <td>914.0</td>\n",
              "      <td>Severe</td>\n",
              "      <td>2015</td>\n",
              "      <td>2</td>\n",
              "      <td>F</td>\n",
              "    </tr>\n",
              "    <tr>\n",
              "      <th>...</th>\n",
              "      <td>...</td>\n",
              "      <td>...</td>\n",
              "      <td>...</td>\n",
              "      <td>...</td>\n",
              "      <td>...</td>\n",
              "      <td>...</td>\n",
              "      <td>...</td>\n",
              "      <td>...</td>\n",
              "      <td>...</td>\n",
              "      <td>...</td>\n",
              "      <td>...</td>\n",
              "      <td>...</td>\n",
              "      <td>...</td>\n",
              "      <td>...</td>\n",
              "      <td>...</td>\n",
              "      <td>...</td>\n",
              "    </tr>\n",
              "    <tr>\n",
              "      <th>29526</th>\n",
              "      <td>15.02</td>\n",
              "      <td>50.94</td>\n",
              "      <td>7.68</td>\n",
              "      <td>25.06</td>\n",
              "      <td>19.54</td>\n",
              "      <td>12.47</td>\n",
              "      <td>0.47</td>\n",
              "      <td>8.55</td>\n",
              "      <td>23.30</td>\n",
              "      <td>2.24</td>\n",
              "      <td>12.07</td>\n",
              "      <td>41.0</td>\n",
              "      <td>Good</td>\n",
              "      <td>2020</td>\n",
              "      <td>6</td>\n",
              "      <td>B</td>\n",
              "    </tr>\n",
              "    <tr>\n",
              "      <th>29527</th>\n",
              "      <td>24.38</td>\n",
              "      <td>74.09</td>\n",
              "      <td>3.42</td>\n",
              "      <td>26.06</td>\n",
              "      <td>16.53</td>\n",
              "      <td>11.99</td>\n",
              "      <td>0.52</td>\n",
              "      <td>12.72</td>\n",
              "      <td>30.14</td>\n",
              "      <td>0.74</td>\n",
              "      <td>2.21</td>\n",
              "      <td>70.0</td>\n",
              "      <td>Satisfactory</td>\n",
              "      <td>2020</td>\n",
              "      <td>6</td>\n",
              "      <td>B</td>\n",
              "    </tr>\n",
              "    <tr>\n",
              "      <th>29528</th>\n",
              "      <td>22.91</td>\n",
              "      <td>65.73</td>\n",
              "      <td>3.45</td>\n",
              "      <td>29.53</td>\n",
              "      <td>18.33</td>\n",
              "      <td>10.71</td>\n",
              "      <td>0.48</td>\n",
              "      <td>8.42</td>\n",
              "      <td>30.96</td>\n",
              "      <td>0.01</td>\n",
              "      <td>0.01</td>\n",
              "      <td>68.0</td>\n",
              "      <td>Satisfactory</td>\n",
              "      <td>2020</td>\n",
              "      <td>6</td>\n",
              "      <td>B</td>\n",
              "    </tr>\n",
              "    <tr>\n",
              "      <th>29529</th>\n",
              "      <td>16.64</td>\n",
              "      <td>49.97</td>\n",
              "      <td>4.05</td>\n",
              "      <td>29.26</td>\n",
              "      <td>18.80</td>\n",
              "      <td>10.03</td>\n",
              "      <td>0.52</td>\n",
              "      <td>9.84</td>\n",
              "      <td>28.30</td>\n",
              "      <td>0.00</td>\n",
              "      <td>0.00</td>\n",
              "      <td>54.0</td>\n",
              "      <td>Satisfactory</td>\n",
              "      <td>2020</td>\n",
              "      <td>6</td>\n",
              "      <td>B</td>\n",
              "    </tr>\n",
              "    <tr>\n",
              "      <th>29530</th>\n",
              "      <td>15.00</td>\n",
              "      <td>66.00</td>\n",
              "      <td>0.40</td>\n",
              "      <td>26.85</td>\n",
              "      <td>14.05</td>\n",
              "      <td>5.20</td>\n",
              "      <td>0.59</td>\n",
              "      <td>2.10</td>\n",
              "      <td>17.05</td>\n",
              "      <td>0.00</td>\n",
              "      <td>0.00</td>\n",
              "      <td>50.0</td>\n",
              "      <td>Good</td>\n",
              "      <td>2020</td>\n",
              "      <td>7</td>\n",
              "      <td>B</td>\n",
              "    </tr>\n",
              "  </tbody>\n",
              "</table>\n",
              "<p>24405 rows × 16 columns</p>\n",
              "</div>"
            ],
            "text/plain": [
              "        PM2.5   PM10     NO    NO2  ...    AQI_Bucket  Year  Month  City_Group\n",
              "28      83.13  94.00   6.93  28.71  ...          Poor  2015      1           F\n",
              "29      79.84  94.00  13.85  28.68  ...     Very Poor  2015      1           F\n",
              "30      94.52  94.00  24.39  32.66  ...        Severe  2015      1           F\n",
              "31     135.99  94.00  43.48  42.08  ...        Severe  2015      2           F\n",
              "32     178.33  94.00  54.56  35.31  ...        Severe  2015      2           F\n",
              "...       ...    ...    ...    ...  ...           ...   ...    ...         ...\n",
              "29526   15.02  50.94   7.68  25.06  ...          Good  2020      6           B\n",
              "29527   24.38  74.09   3.42  26.06  ...  Satisfactory  2020      6           B\n",
              "29528   22.91  65.73   3.45  29.53  ...  Satisfactory  2020      6           B\n",
              "29529   16.64  49.97   4.05  29.26  ...  Satisfactory  2020      6           B\n",
              "29530   15.00  66.00   0.40  26.85  ...          Good  2020      7           B\n",
              "\n",
              "[24405 rows x 16 columns]"
            ]
          },
          "metadata": {},
          "execution_count": 160
        }
      ]
    },
    {
      "cell_type": "code",
      "metadata": {
        "colab": {
          "base_uri": "https://localhost:8080/"
        },
        "id": "FeMUXftxKZu3",
        "outputId": "fc67e503-c845-4361-83cc-16e6c28acace"
      },
      "source": [
        "df.info()"
      ],
      "execution_count": null,
      "outputs": [
        {
          "output_type": "stream",
          "name": "stdout",
          "text": [
            "<class 'pandas.core.frame.DataFrame'>\n",
            "Int64Index: 24405 entries, 28 to 29530\n",
            "Data columns (total 16 columns):\n",
            " #   Column      Non-Null Count  Dtype   \n",
            "---  ------      --------------  -----   \n",
            " 0   PM2.5       24405 non-null  float64 \n",
            " 1   PM10        24405 non-null  float64 \n",
            " 2   NO          24405 non-null  float64 \n",
            " 3   NO2         24405 non-null  float64 \n",
            " 4   NOx         24405 non-null  float64 \n",
            " 5   NH3         24405 non-null  float64 \n",
            " 6   CO          24405 non-null  float64 \n",
            " 7   SO2         24405 non-null  float64 \n",
            " 8   O3          24405 non-null  float64 \n",
            " 9   Benzene     24405 non-null  float64 \n",
            " 10  Toluene     24405 non-null  float64 \n",
            " 11  AQI         24405 non-null  float64 \n",
            " 12  AQI_Bucket  24405 non-null  object  \n",
            " 13  Year        24405 non-null  int64   \n",
            " 14  Month       24405 non-null  int64   \n",
            " 15  City_Group  24405 non-null  category\n",
            "dtypes: category(1), float64(12), int64(2), object(1)\n",
            "memory usage: 3.0+ MB\n"
          ]
        }
      ]
    },
    {
      "cell_type": "markdown",
      "metadata": {
        "id": "pnRuEI_pKfAJ"
      },
      "source": [
        "## Outliers"
      ]
    },
    {
      "cell_type": "code",
      "metadata": {
        "colab": {
          "base_uri": "https://localhost:8080/",
          "height": 352
        },
        "id": "LWFLJYDvKdzq",
        "outputId": "79f3fdcb-e9bf-4b5f-b77a-7ec4a6888eaf"
      },
      "source": [
        "# Box Plot\n",
        "sns.boxplot(df['AQI'])"
      ],
      "execution_count": null,
      "outputs": [
        {
          "output_type": "stream",
          "name": "stderr",
          "text": [
            "/usr/local/lib/python3.7/dist-packages/seaborn/_decorators.py:43: FutureWarning: Pass the following variable as a keyword arg: x. From version 0.12, the only valid positional argument will be `data`, and passing other arguments without an explicit keyword will result in an error or misinterpretation.\n",
            "  FutureWarning\n"
          ]
        },
        {
          "output_type": "execute_result",
          "data": {
            "text/plain": [
              "<matplotlib.axes._subplots.AxesSubplot at 0x7f474a1b9b10>"
            ]
          },
          "metadata": {},
          "execution_count": 162
        },
        {
          "output_type": "display_data",
          "data": {
            "image/png": "[encoded data removed]",
            "text/plain": [
              "<Figure size 432x288 with 1 Axes>"
            ]
          },
          "metadata": {
            "needs_background": "light"
          }
        }
      ]
    },
    {
      "cell_type": "code",
      "metadata": {
        "colab": {
          "base_uri": "https://localhost:8080/"
        },
        "id": "uZ9GPSSaKi-d",
        "outputId": "bf0a3df3-8b1d-40d9-efc8-689409ed8745"
      },
      "source": [
        "# Position of the Outlier\n",
        "a = np.where(df['AQI']>500)\n",
        "print(np.size(a))"
      ],
      "execution_count": null,
      "outputs": [
        {
          "output_type": "stream",
          "name": "stdout",
          "text": [
            "534\n"
          ]
        }
      ]
    },
    {
      "cell_type": "code",
      "metadata": {
        "id": "MwUDGWVSKlOP"
      },
      "source": [
        "df = df[df['AQI'] <= 500]"
      ],
      "execution_count": null,
      "outputs": []
    },
    {
      "cell_type": "code",
      "metadata": {
        "colab": {
          "base_uri": "https://localhost:8080/"
        },
        "id": "haKyQMhqKnUd",
        "outputId": "521f2015-9cb3-410f-c07b-7d8bb17ccad6"
      },
      "source": [
        "df.shape"
      ],
      "execution_count": null,
      "outputs": [
        {
          "output_type": "execute_result",
          "data": {
            "text/plain": [
              "(23871, 16)"
            ]
          },
          "metadata": {},
          "execution_count": 165
        }
      ]
    },
    {
      "cell_type": "code",
      "metadata": {
        "colab": {
          "base_uri": "https://localhost:8080/",
          "height": 352
        },
        "id": "VCy46sphKo_V",
        "outputId": "27285775-0850-4b3e-f101-a1c754286ce4"
      },
      "source": [
        "# Box Plot\n",
        "sns.boxplot(df['AQI'])"
      ],
      "execution_count": null,
      "outputs": [
        {
          "output_type": "stream",
          "name": "stderr",
          "text": [
            "/usr/local/lib/python3.7/dist-packages/seaborn/_decorators.py:43: FutureWarning: Pass the following variable as a keyword arg: x. From version 0.12, the only valid positional argument will be `data`, and passing other arguments without an explicit keyword will result in an error or misinterpretation.\n",
            "  FutureWarning\n"
          ]
        },
        {
          "output_type": "execute_result",
          "data": {
            "text/plain": [
              "<matplotlib.axes._subplots.AxesSubplot at 0x7f474808ded0>"
            ]
          },
          "metadata": {},
          "execution_count": 166
        },
        {
          "output_type": "display_data",
          "data": {
            "image/png": "[encoded data removed]",
            "text/plain": [
              "<Figure size 432x288 with 1 Axes>"
            ]
          },
          "metadata": {
            "needs_background": "light"
          }
        }
      ]
    },
    {
      "cell_type": "code",
      "metadata": {
        "colab": {
          "base_uri": "https://localhost:8080/",
          "height": 434
        },
        "id": "WI1e91EWKrFH",
        "outputId": "60c20fa7-9444-4fff-c74b-f6f5bd41574a"
      },
      "source": [
        "# For city, we will perform OneHotEncoder\n",
        "df = pd.get_dummies(df, columns = ['City_Group'], drop_first=True)\n",
        "df"
      ],
      "execution_count": null,
      "outputs": [
        {
          "output_type": "execute_result",
          "data": {
            "text/html": [
              "<div>\n",
              "<style scoped>\n",
              "    .dataframe tbody tr th:only-of-type {\n",
              "        vertical-align: middle;\n",
              "    }\n",
              "\n",
              "    .dataframe tbody tr th {\n",
              "        vertical-align: top;\n",
              "    }\n",
              "\n",
              "    .dataframe thead th {\n",
              "        text-align: right;\n",
              "    }\n",
              "</style>\n",
              "<table border=\"1\" class=\"dataframe\">\n",
              "  <thead>\n",
              "    <tr style=\"text-align: right;\">\n",
              "      <th></th>\n",
              "      <th>PM2.5</th>\n",
              "      <th>PM10</th>\n",
              "      <th>NO</th>\n",
              "      <th>NO2</th>\n",
              "      <th>NOx</th>\n",
              "      <th>NH3</th>\n",
              "      <th>CO</th>\n",
              "      <th>SO2</th>\n",
              "      <th>O3</th>\n",
              "      <th>Benzene</th>\n",
              "      <th>Toluene</th>\n",
              "      <th>AQI</th>\n",
              "      <th>AQI_Bucket</th>\n",
              "      <th>Year</th>\n",
              "      <th>Month</th>\n",
              "      <th>City_Group_B</th>\n",
              "      <th>City_Group_C</th>\n",
              "      <th>City_Group_D</th>\n",
              "      <th>City_Group_E</th>\n",
              "      <th>City_Group_F</th>\n",
              "    </tr>\n",
              "  </thead>\n",
              "  <tbody>\n",
              "    <tr>\n",
              "      <th>28</th>\n",
              "      <td>83.13</td>\n",
              "      <td>94.00</td>\n",
              "      <td>6.93</td>\n",
              "      <td>28.71</td>\n",
              "      <td>33.72</td>\n",
              "      <td>10.46</td>\n",
              "      <td>6.93</td>\n",
              "      <td>49.52</td>\n",
              "      <td>59.76</td>\n",
              "      <td>0.02</td>\n",
              "      <td>0.00</td>\n",
              "      <td>209.0</td>\n",
              "      <td>Poor</td>\n",
              "      <td>2015</td>\n",
              "      <td>1</td>\n",
              "      <td>0</td>\n",
              "      <td>0</td>\n",
              "      <td>0</td>\n",
              "      <td>0</td>\n",
              "      <td>1</td>\n",
              "    </tr>\n",
              "    <tr>\n",
              "      <th>29</th>\n",
              "      <td>79.84</td>\n",
              "      <td>94.00</td>\n",
              "      <td>13.85</td>\n",
              "      <td>28.68</td>\n",
              "      <td>41.08</td>\n",
              "      <td>10.46</td>\n",
              "      <td>13.85</td>\n",
              "      <td>48.49</td>\n",
              "      <td>97.07</td>\n",
              "      <td>0.04</td>\n",
              "      <td>0.00</td>\n",
              "      <td>328.0</td>\n",
              "      <td>Very Poor</td>\n",
              "      <td>2015</td>\n",
              "      <td>1</td>\n",
              "      <td>0</td>\n",
              "      <td>0</td>\n",
              "      <td>0</td>\n",
              "      <td>0</td>\n",
              "      <td>1</td>\n",
              "    </tr>\n",
              "    <tr>\n",
              "      <th>34</th>\n",
              "      <td>80.65</td>\n",
              "      <td>94.00</td>\n",
              "      <td>2.37</td>\n",
              "      <td>22.83</td>\n",
              "      <td>24.00</td>\n",
              "      <td>10.46</td>\n",
              "      <td>2.37</td>\n",
              "      <td>25.73</td>\n",
              "      <td>47.30</td>\n",
              "      <td>0.00</td>\n",
              "      <td>0.00</td>\n",
              "      <td>294.0</td>\n",
              "      <td>Poor</td>\n",
              "      <td>2015</td>\n",
              "      <td>2</td>\n",
              "      <td>0</td>\n",
              "      <td>0</td>\n",
              "      <td>0</td>\n",
              "      <td>0</td>\n",
              "      <td>1</td>\n",
              "    </tr>\n",
              "    <tr>\n",
              "      <th>35</th>\n",
              "      <td>58.36</td>\n",
              "      <td>94.00</td>\n",
              "      <td>2.60</td>\n",
              "      <td>21.39</td>\n",
              "      <td>23.31</td>\n",
              "      <td>10.46</td>\n",
              "      <td>2.60</td>\n",
              "      <td>32.66</td>\n",
              "      <td>53.54</td>\n",
              "      <td>0.00</td>\n",
              "      <td>0.00</td>\n",
              "      <td>149.0</td>\n",
              "      <td>Moderate</td>\n",
              "      <td>2015</td>\n",
              "      <td>2</td>\n",
              "      <td>0</td>\n",
              "      <td>0</td>\n",
              "      <td>0</td>\n",
              "      <td>0</td>\n",
              "      <td>1</td>\n",
              "    </tr>\n",
              "    <tr>\n",
              "      <th>36</th>\n",
              "      <td>79.29</td>\n",
              "      <td>94.00</td>\n",
              "      <td>1.16</td>\n",
              "      <td>26.94</td>\n",
              "      <td>26.83</td>\n",
              "      <td>10.46</td>\n",
              "      <td>1.16</td>\n",
              "      <td>67.41</td>\n",
              "      <td>59.30</td>\n",
              "      <td>0.00</td>\n",
              "      <td>0.00</td>\n",
              "      <td>190.0</td>\n",
              "      <td>Moderate</td>\n",
              "      <td>2015</td>\n",
              "      <td>2</td>\n",
              "      <td>0</td>\n",
              "      <td>0</td>\n",
              "      <td>0</td>\n",
              "      <td>0</td>\n",
              "      <td>1</td>\n",
              "    </tr>\n",
              "    <tr>\n",
              "      <th>...</th>\n",
              "      <td>...</td>\n",
              "      <td>...</td>\n",
              "      <td>...</td>\n",
              "      <td>...</td>\n",
              "      <td>...</td>\n",
              "      <td>...</td>\n",
              "      <td>...</td>\n",
              "      <td>...</td>\n",
              "      <td>...</td>\n",
              "      <td>...</td>\n",
              "      <td>...</td>\n",
              "      <td>...</td>\n",
              "      <td>...</td>\n",
              "      <td>...</td>\n",
              "      <td>...</td>\n",
              "      <td>...</td>\n",
              "      <td>...</td>\n",
              "      <td>...</td>\n",
              "      <td>...</td>\n",
              "      <td>...</td>\n",
              "    </tr>\n",
              "    <tr>\n",
              "      <th>29526</th>\n",
              "      <td>15.02</td>\n",
              "      <td>50.94</td>\n",
              "      <td>7.68</td>\n",
              "      <td>25.06</td>\n",
              "      <td>19.54</td>\n",
              "      <td>12.47</td>\n",
              "      <td>0.47</td>\n",
              "      <td>8.55</td>\n",
              "      <td>23.30</td>\n",
              "      <td>2.24</td>\n",
              "      <td>12.07</td>\n",
              "      <td>41.0</td>\n",
              "      <td>Good</td>\n",
              "      <td>2020</td>\n",
              "      <td>6</td>\n",
              "      <td>1</td>\n",
              "      <td>0</td>\n",
              "      <td>0</td>\n",
              "      <td>0</td>\n",
              "      <td>0</td>\n",
              "    </tr>\n",
              "    <tr>\n",
              "      <th>29527</th>\n",
              "      <td>24.38</td>\n",
              "      <td>74.09</td>\n",
              "      <td>3.42</td>\n",
              "      <td>26.06</td>\n",
              "      <td>16.53</td>\n",
              "      <td>11.99</td>\n",
              "      <td>0.52</td>\n",
              "      <td>12.72</td>\n",
              "      <td>30.14</td>\n",
              "      <td>0.74</td>\n",
              "      <td>2.21</td>\n",
              "      <td>70.0</td>\n",
              "      <td>Satisfactory</td>\n",
              "      <td>2020</td>\n",
              "      <td>6</td>\n",
              "      <td>1</td>\n",
              "      <td>0</td>\n",
              "      <td>0</td>\n",
              "      <td>0</td>\n",
              "      <td>0</td>\n",
              "    </tr>\n",
              "    <tr>\n",
              "      <th>29528</th>\n",
              "      <td>22.91</td>\n",
              "      <td>65.73</td>\n",
              "      <td>3.45</td>\n",
              "      <td>29.53</td>\n",
              "      <td>18.33</td>\n",
              "      <td>10.71</td>\n",
              "      <td>0.48</td>\n",
              "      <td>8.42</td>\n",
              "      <td>30.96</td>\n",
              "      <td>0.01</td>\n",
              "      <td>0.01</td>\n",
              "      <td>68.0</td>\n",
              "      <td>Satisfactory</td>\n",
              "      <td>2020</td>\n",
              "      <td>6</td>\n",
              "      <td>1</td>\n",
              "      <td>0</td>\n",
              "      <td>0</td>\n",
              "      <td>0</td>\n",
              "      <td>0</td>\n",
              "    </tr>\n",
              "    <tr>\n",
              "      <th>29529</th>\n",
              "      <td>16.64</td>\n",
              "      <td>49.97</td>\n",
              "      <td>4.05</td>\n",
              "      <td>29.26</td>\n",
              "      <td>18.80</td>\n",
              "      <td>10.03</td>\n",
              "      <td>0.52</td>\n",
              "      <td>9.84</td>\n",
              "      <td>28.30</td>\n",
              "      <td>0.00</td>\n",
              "      <td>0.00</td>\n",
              "      <td>54.0</td>\n",
              "      <td>Satisfactory</td>\n",
              "      <td>2020</td>\n",
              "      <td>6</td>\n",
              "      <td>1</td>\n",
              "      <td>0</td>\n",
              "      <td>0</td>\n",
              "      <td>0</td>\n",
              "      <td>0</td>\n",
              "    </tr>\n",
              "    <tr>\n",
              "      <th>29530</th>\n",
              "      <td>15.00</td>\n",
              "      <td>66.00</td>\n",
              "      <td>0.40</td>\n",
              "      <td>26.85</td>\n",
              "      <td>14.05</td>\n",
              "      <td>5.20</td>\n",
              "      <td>0.59</td>\n",
              "      <td>2.10</td>\n",
              "      <td>17.05</td>\n",
              "      <td>0.00</td>\n",
              "      <td>0.00</td>\n",
              "      <td>50.0</td>\n",
              "      <td>Good</td>\n",
              "      <td>2020</td>\n",
              "      <td>7</td>\n",
              "      <td>1</td>\n",
              "      <td>0</td>\n",
              "      <td>0</td>\n",
              "      <td>0</td>\n",
              "      <td>0</td>\n",
              "    </tr>\n",
              "  </tbody>\n",
              "</table>\n",
              "<p>23871 rows × 20 columns</p>\n",
              "</div>"
            ],
            "text/plain": [
              "       PM2.5   PM10     NO  ...  City_Group_D  City_Group_E  City_Group_F\n",
              "28     83.13  94.00   6.93  ...             0             0             1\n",
              "29     79.84  94.00  13.85  ...             0             0             1\n",
              "34     80.65  94.00   2.37  ...             0             0             1\n",
              "35     58.36  94.00   2.60  ...             0             0             1\n",
              "36     79.29  94.00   1.16  ...             0             0             1\n",
              "...      ...    ...    ...  ...           ...           ...           ...\n",
              "29526  15.02  50.94   7.68  ...             0             0             0\n",
              "29527  24.38  74.09   3.42  ...             0             0             0\n",
              "29528  22.91  65.73   3.45  ...             0             0             0\n",
              "29529  16.64  49.97   4.05  ...             0             0             0\n",
              "29530  15.00  66.00   0.40  ...             0             0             0\n",
              "\n",
              "[23871 rows x 20 columns]"
            ]
          },
          "metadata": {},
          "execution_count": 167
        }
      ]
    },
    {
      "cell_type": "code",
      "metadata": {
        "colab": {
          "base_uri": "https://localhost:8080/",
          "height": 513
        },
        "id": "xtAXfAA9KtYH",
        "outputId": "2e610be9-5213-4cc2-ddb1-31220c483f69"
      },
      "source": [
        "df_corr = df.corr()\n",
        "df_corr = df_corr.drop(['Year','Month'],axis = 1)\n",
        "df_corr = df_corr.drop(['Year','Month'],axis = 0)\n",
        "plt.figure(figsize=(20,8))\n",
        "ax = sns.heatmap(df_corr, annot=True)"
      ],
      "execution_count": null,
      "outputs": [
        {
          "output_type": "display_data",
          "data": {
            "image/png": "[encoded data removed]",
            "text/plain": [
              "<Figure size 1440x576 with 2 Axes>"
            ]
          },
          "metadata": {
            "needs_background": "light"
          }
        }
      ]
    },
    {
      "cell_type": "markdown",
      "metadata": {
        "id": "6JQQVQieK-3Z"
      },
      "source": [
        "### AQI values into six categories based on the value namely: Good(0–50), Satisfactory (51–100), Moderate (101–200), Poor (201–300), Very Poor (301–400), Severe (above 400)"
      ]
    },
    {
      "cell_type": "code",
      "metadata": {
        "colab": {
          "base_uri": "https://localhost:8080/"
        },
        "id": "q8sRc0UEK0q7",
        "outputId": "68ecf68d-0cc5-4419-855a-672c51c4519a"
      },
      "source": [
        "df['AQI_Bucket'].unique()"
      ],
      "execution_count": null,
      "outputs": [
        {
          "output_type": "execute_result",
          "data": {
            "text/plain": [
              "array(['Poor', 'Very Poor', 'Moderate', 'Severe', 'Satisfactory', 'Good'],\n",
              "      dtype=object)"
            ]
          },
          "metadata": {},
          "execution_count": 169
        }
      ]
    },
    {
      "cell_type": "code",
      "metadata": {
        "colab": {
          "base_uri": "https://localhost:8080/",
          "height": 347
        },
        "id": "5g65BV4BLBE1",
        "outputId": "82f58e3a-b0f1-4012-eab4-e7e0ed177d0c"
      },
      "source": [
        "df.groupby('AQI_Bucket')['AQI'].mean().sort_values().plot(kind = 'bar')"
      ],
      "execution_count": null,
      "outputs": [
        {
          "output_type": "execute_result",
          "data": {
            "text/plain": [
              "<matplotlib.axes._subplots.AxesSubplot at 0x7f4749f7b150>"
            ]
          },
          "metadata": {},
          "execution_count": 170
        },
        {
          "output_type": "display_data",
          "data": {
            "image/png": "[encoded data removed]",
            "text/plain": [
              "<Figure size 432x288 with 1 Axes>"
            ]
          },
          "metadata": {
            "needs_background": "light"
          }
        }
      ]
    },
    {
      "cell_type": "code",
      "metadata": {
        "id": "5wStxTz7LDt5"
      },
      "source": [
        "del df['AQI_Bucket']"
      ],
      "execution_count": null,
      "outputs": []
    },
    {
      "cell_type": "code",
      "metadata": {
        "colab": {
          "base_uri": "https://localhost:8080/"
        },
        "id": "H4mtLNKYLGbL",
        "outputId": "9b0874c1-5bc8-47b1-fba3-560ead7b7004"
      },
      "source": [
        "df.info()"
      ],
      "execution_count": null,
      "outputs": [
        {
          "output_type": "stream",
          "name": "stdout",
          "text": [
            "<class 'pandas.core.frame.DataFrame'>\n",
            "Int64Index: 23871 entries, 28 to 29530\n",
            "Data columns (total 19 columns):\n",
            " #   Column        Non-Null Count  Dtype  \n",
            "---  ------        --------------  -----  \n",
            " 0   PM2.5         23871 non-null  float64\n",
            " 1   PM10          23871 non-null  float64\n",
            " 2   NO            23871 non-null  float64\n",
            " 3   NO2           23871 non-null  float64\n",
            " 4   NOx           23871 non-null  float64\n",
            " 5   NH3           23871 non-null  float64\n",
            " 6   CO            23871 non-null  float64\n",
            " 7   SO2           23871 non-null  float64\n",
            " 8   O3            23871 non-null  float64\n",
            " 9   Benzene       23871 non-null  float64\n",
            " 10  Toluene       23871 non-null  float64\n",
            " 11  AQI           23871 non-null  float64\n",
            " 12  Year          23871 non-null  int64  \n",
            " 13  Month         23871 non-null  int64  \n",
            " 14  City_Group_B  23871 non-null  uint8  \n",
            " 15  City_Group_C  23871 non-null  uint8  \n",
            " 16  City_Group_D  23871 non-null  uint8  \n",
            " 17  City_Group_E  23871 non-null  uint8  \n",
            " 18  City_Group_F  23871 non-null  uint8  \n",
            "dtypes: float64(12), int64(2), uint8(5)\n",
            "memory usage: 2.8 MB\n"
          ]
        }
      ]
    },
    {
      "cell_type": "markdown",
      "metadata": {
        "id": "K5K2sjalOCY7"
      },
      "source": [
        "## Splitting data"
      ]
    },
    {
      "cell_type": "code",
      "metadata": {
        "id": "fel2XhWHLIv0"
      },
      "source": [
        "X = df.drop([\"AQI\"], axis=1)\n",
        "y = df['AQI']"
      ],
      "execution_count": null,
      "outputs": []
    },
    {
      "cell_type": "code",
      "metadata": {
        "id": "_2Fx09syOBdU"
      },
      "source": [
        "from sklearn.model_selection import train_test_split\n",
        "X_train, X_test, y_train, y_test = train_test_split(X, y, test_size = 0.2, random_state = 1)"
      ],
      "execution_count": null,
      "outputs": []
    },
    {
      "cell_type": "markdown",
      "metadata": {
        "id": "N7gEdOFWOhcx"
      },
      "source": [
        "## Model evaluation function"
      ]
    },
    {
      "cell_type": "code",
      "metadata": {
        "id": "FaUjtt-6OehA"
      },
      "source": [
        "from sklearn import metrics\n",
        "def Model_evaluate(y_pred, y_test):\n",
        "  print('MAE:', metrics.mean_absolute_error(y_test, y_pred))\n",
        "  print('MSE:', metrics.mean_squared_error(y_test, y_pred))\n",
        "  print('RMSE:', np.sqrt(metrics.mean_squared_error(y_test, y_pred)))\n",
        "  print(\"R-squared value: \", metrics.r2_score(y_test, y_pred))"
      ],
      "execution_count": null,
      "outputs": []
    },
    {
      "cell_type": "markdown",
      "metadata": {
        "id": "_N43JuBpOnW3"
      },
      "source": [
        "## Linear Regression"
      ]
    },
    {
      "cell_type": "code",
      "metadata": {
        "id": "6icKUbqbOk9e"
      },
      "source": [
        "from sklearn.linear_model import LinearRegression\n",
        "lr = LinearRegression()\n",
        "lr.fit(X_train, y_train)\n",
        "y_pred = lr.predict(X_test)\n",
        "y_train_pred = lr.predict(X_train)"
      ],
      "execution_count": null,
      "outputs": []
    },
    {
      "cell_type": "code",
      "metadata": {
        "colab": {
          "base_uri": "https://localhost:8080/"
        },
        "id": "IWsT7JhZOrao",
        "outputId": "d22d306f-91fd-4f6d-c4b1-88f55d68005b"
      },
      "source": [
        "y_pred"
      ],
      "execution_count": null,
      "outputs": [
        {
          "output_type": "execute_result",
          "data": {
            "text/plain": [
              "array([133.56112312, 151.03200218, 126.87162024, ...,  51.58501532,\n",
              "       214.11190627,  76.7627411 ])"
            ]
          },
          "metadata": {},
          "execution_count": 177
        }
      ]
    },
    {
      "cell_type": "code",
      "metadata": {
        "colab": {
          "base_uri": "https://localhost:8080/"
        },
        "id": "NNkpRsKZOtDT",
        "outputId": "1a65a459-dc03-4922-b01e-1d3b1d3e08e2"
      },
      "source": [
        "Model_evaluate(y_train_pred, y_train)"
      ],
      "execution_count": null,
      "outputs": [
        {
          "output_type": "stream",
          "name": "stdout",
          "text": [
            "MAE: 26.6902122332455\n",
            "MSE: 1554.1315562063546\n",
            "RMSE: 39.422475267369435\n",
            "R-squared value:  0.8510644089682802\n"
          ]
        }
      ]
    },
    {
      "cell_type": "code",
      "metadata": {
        "colab": {
          "base_uri": "https://localhost:8080/"
        },
        "id": "BZf7iN07OuzU",
        "outputId": "8c28c007-bb4a-4721-8a2a-bb06b814ac0f"
      },
      "source": [
        "Model_evaluate(y_pred, y_test)"
      ],
      "execution_count": null,
      "outputs": [
        {
          "output_type": "stream",
          "name": "stdout",
          "text": [
            "MAE: 26.254919217938614\n",
            "MSE: 1718.11081778214\n",
            "RMSE: 41.45010033500691\n",
            "R-squared value:  0.8369370301020176\n"
          ]
        }
      ]
    },
    {
      "cell_type": "markdown",
      "metadata": {
        "id": "gtyqLYuZnXPc"
      },
      "source": [
        "## Standard Scaler"
      ]
    },
    {
      "cell_type": "code",
      "metadata": {
        "id": "QaJ_KMmznaLN"
      },
      "source": [
        "from sklearn.preprocessing import StandardScaler\n",
        "scaler = StandardScaler()\n",
        "scaler.fit(X)\n",
        "X = scaler.transform(X)"
      ],
      "execution_count": null,
      "outputs": []
    },
    {
      "cell_type": "markdown",
      "metadata": {
        "id": "pvFc_mfHRfjy"
      },
      "source": [
        "## KNN Regressor"
      ]
    },
    {
      "cell_type": "code",
      "metadata": {
        "id": "SJ2TSvP0OwtB"
      },
      "source": [
        "from sklearn import neighbors\n",
        "from math import sqrt"
      ],
      "execution_count": null,
      "outputs": []
    },
    {
      "cell_type": "code",
      "metadata": {
        "colab": {
          "base_uri": "https://localhost:8080/"
        },
        "id": "FXo5pdBsRiT5",
        "outputId": "b88a568d-7779-4c89-9a81-da853d1c273e"
      },
      "source": [
        "rmse_val = [] #to store rmse values for different k\n",
        "for K in range(20):\n",
        "    K = K+1\n",
        "    model = neighbors.KNeighborsRegressor(n_neighbors = K)\n",
        "    model.fit(X_train, y_train)\n",
        "    pred = model.predict(X_test)\n",
        "    error = sqrt(metrics.mean_squared_error(y_test,pred)) #calculate rmse\n",
        "    rmse_val.append(error) #store rmse values\n",
        "    print('RMSE value for k= ' , K , 'is:', error)"
      ],
      "execution_count": null,
      "outputs": [
        {
          "output_type": "stream",
          "name": "stdout",
          "text": [
            "RMSE value for k=  1 is: 40.16026271789915\n",
            "RMSE value for k=  2 is: 36.6190227508208\n",
            "RMSE value for k=  3 is: 34.85446013793199\n",
            "RMSE value for k=  4 is: 34.41206393082312\n",
            "RMSE value for k=  5 is: 34.17417940814227\n",
            "RMSE value for k=  6 is: 34.01741572233007\n",
            "RMSE value for k=  7 is: 34.055339588729495\n",
            "RMSE value for k=  8 is: 34.09059784246302\n",
            "RMSE value for k=  9 is: 34.0933152753965\n",
            "RMSE value for k=  10 is: 34.12691627820606\n",
            "RMSE value for k=  11 is: 34.222096308235884\n",
            "RMSE value for k=  12 is: 34.20717445048597\n",
            "RMSE value for k=  13 is: 34.26855429275005\n",
            "RMSE value for k=  14 is: 34.35042063185271\n",
            "RMSE value for k=  15 is: 34.547724076410624\n",
            "RMSE value for k=  16 is: 34.62378203955358\n",
            "RMSE value for k=  17 is: 34.6230484814684\n",
            "RMSE value for k=  18 is: 34.689674919048606\n",
            "RMSE value for k=  19 is: 34.73137423669002\n",
            "RMSE value for k=  20 is: 34.8219084314212\n"
          ]
        }
      ]
    },
    {
      "cell_type": "code",
      "metadata": {
        "colab": {
          "base_uri": "https://localhost:8080/",
          "height": 282
        },
        "id": "f-b-Go_KRke9",
        "outputId": "64cfb8a4-9810-45a8-9c11-cdc8c84d4b1e"
      },
      "source": [
        "#plotting the rmse values against k values\n",
        "curve = pd.DataFrame(rmse_val) #elbow curve \n",
        "curve.plot()"
      ],
      "execution_count": null,
      "outputs": [
        {
          "output_type": "execute_result",
          "data": {
            "text/plain": [
              "<matplotlib.axes._subplots.AxesSubplot at 0x7f4752b10690>"
            ]
          },
          "metadata": {},
          "execution_count": 183
        },
        {
          "output_type": "display_data",
          "data": {
            "image/png": "[encoded data removed]",
            "text/plain": [
              "<Figure size 432x288 with 1 Axes>"
            ]
          },
          "metadata": {
            "needs_background": "light"
          }
        }
      ]
    },
    {
      "cell_type": "markdown",
      "metadata": {
        "id": "92r3SO3XRr1y"
      },
      "source": [
        "When we take k=1, we get a high RMSE value. The RMSE value decreases as we increase the k value. At k= 6, the RMSE is approximately 34.01 , and shoots up on further increasing the k value.\n",
        "We can safely say that k=6 will give us the best result in this case"
      ]
    },
    {
      "cell_type": "code",
      "metadata": {
        "colab": {
          "base_uri": "https://localhost:8080/"
        },
        "id": "AmZG5a0pRsZP",
        "outputId": "0dbf588e-d83b-466b-b0e0-21cbf84a50c9"
      },
      "source": [
        "model = neighbors.KNeighborsRegressor(n_neighbors = 6)\n",
        "model.fit(X_train, y_train)  #fit the model"
      ],
      "execution_count": null,
      "outputs": [
        {
          "output_type": "execute_result",
          "data": {
            "text/plain": [
              "KNeighborsRegressor(algorithm='auto', leaf_size=30, metric='minkowski',\n",
              "                    metric_params=None, n_jobs=None, n_neighbors=6, p=2,\n",
              "                    weights='uniform')"
            ]
          },
          "metadata": {},
          "execution_count": 184
        }
      ]
    },
    {
      "cell_type": "code",
      "metadata": {
        "id": "txofACqSRu61"
      },
      "source": [
        "y_pred = model.predict(X_test) #make prediction on test set\n",
        "y_train_pred = model.predict(X_train)#make prediction on train set"
      ],
      "execution_count": null,
      "outputs": []
    },
    {
      "cell_type": "code",
      "metadata": {
        "colab": {
          "base_uri": "https://localhost:8080/"
        },
        "id": "bTfv8UrOR5yw",
        "outputId": "48d5d00e-cf4a-4dc0-9f87-d70fdd827be2"
      },
      "source": [
        "Model_evaluate(y_train_pred, y_train)"
      ],
      "execution_count": null,
      "outputs": [
        {
          "output_type": "stream",
          "name": "stdout",
          "text": [
            "MAE: 16.933031350370058\n",
            "MSE: 743.1386546920821\n",
            "RMSE: 27.26056959588486\n",
            "R-squared value:  0.928783509791634\n"
          ]
        }
      ]
    },
    {
      "cell_type": "code",
      "metadata": {
        "colab": {
          "base_uri": "https://localhost:8080/"
        },
        "id": "khGcCS3CR7jh",
        "outputId": "f6a60fbb-cd82-431c-9fdd-0a524eb176df"
      },
      "source": [
        "Model_evaluate(y_pred, y_test)"
      ],
      "execution_count": null,
      "outputs": [
        {
          "output_type": "stream",
          "name": "stdout",
          "text": [
            "MAE: 20.843071553228622\n",
            "MSE: 1157.184572425829\n",
            "RMSE: 34.01741572233007\n",
            "R-squared value:  0.8901735841792429\n"
          ]
        }
      ]
    },
    {
      "cell_type": "markdown",
      "metadata": {
        "id": "46BSIYQcn5G8"
      },
      "source": [
        "## Extra Trees Regressor"
      ]
    },
    {
      "cell_type": "code",
      "metadata": {
        "id": "0P95gNqPR_qp"
      },
      "source": [
        "X_train, X_test, y_train, y_test = train_test_split(X, y, test_size = 0.2, random_state = 1)"
      ],
      "execution_count": null,
      "outputs": []
    },
    {
      "cell_type": "code",
      "metadata": {
        "colab": {
          "base_uri": "https://localhost:8080/"
        },
        "id": "5OBljbL3oGtJ",
        "outputId": "fde05daa-eb47-4a65-9a81-bae47c1cc4b8"
      },
      "source": [
        "from sklearn.ensemble import ExtraTreesRegressor\n",
        "etr = ExtraTreesRegressor()\n",
        "etr.fit(X_train, y_train)"
      ],
      "execution_count": null,
      "outputs": [
        {
          "output_type": "execute_result",
          "data": {
            "text/plain": [
              "ExtraTreesRegressor(bootstrap=False, ccp_alpha=0.0, criterion='mse',\n",
              "                    max_depth=None, max_features='auto', max_leaf_nodes=None,\n",
              "                    max_samples=None, min_impurity_decrease=0.0,\n",
              "                    min_impurity_split=None, min_samples_leaf=1,\n",
              "                    min_samples_split=2, min_weight_fraction_leaf=0.0,\n",
              "                    n_estimators=100, n_jobs=None, oob_score=False,\n",
              "                    random_state=None, verbose=0, warm_start=False)"
            ]
          },
          "metadata": {},
          "execution_count": 189
        }
      ]
    },
    {
      "cell_type": "code",
      "metadata": {
        "id": "xJBuRvzvoIjT"
      },
      "source": [
        "y_pred = etr.predict(X_test)\n",
        "y_train_pred = etr.predict(X_train)"
      ],
      "execution_count": null,
      "outputs": []
    },
    {
      "cell_type": "code",
      "metadata": {
        "colab": {
          "base_uri": "https://localhost:8080/"
        },
        "id": "Dh2S5xRzoKm7",
        "outputId": "5e7c8b21-22d9-4586-abc2-335b7b9ce347"
      },
      "source": [
        "Model_evaluate(y_train_pred, y_train)"
      ],
      "execution_count": null,
      "outputs": [
        {
          "output_type": "stream",
          "name": "stdout",
          "text": [
            "MAE: 0.0021575198994553827\n",
            "MSE: 0.044015500628403856\n",
            "RMSE: 0.20979871455374519\n",
            "R-squared value:  0.9999957819049652\n"
          ]
        }
      ]
    },
    {
      "cell_type": "code",
      "metadata": {
        "colab": {
          "base_uri": "https://localhost:8080/"
        },
        "id": "JCoJt2WZoMOy",
        "outputId": "3c7d4843-b930-41e1-fdcb-9a79fc6cbeb6"
      },
      "source": [
        "Model_evaluate(y_pred, y_test)"
      ],
      "execution_count": null,
      "outputs": [
        {
          "output_type": "stream",
          "name": "stdout",
          "text": [
            "MAE: 16.787058638743456\n",
            "MSE: 740.0186671884816\n",
            "RMSE: 27.203284125055223\n",
            "R-squared value:  0.9297660893565239\n"
          ]
        }
      ]
    },
    {
      "cell_type": "code",
      "metadata": {
        "colab": {
          "base_uri": "https://localhost:8080/",
          "height": 281
        },
        "id": "9LCqdUUBoQro",
        "outputId": "f7c590cb-b1e6-4909-97a9-59b35db4cef5"
      },
      "source": [
        "x_ax = range(len(y_test))\n",
        "plt.plot(x_ax, y_test, lw=0.6, color=\"blue\", label=\"original\")\n",
        "plt.plot(x_ax, y_pred, lw=0.8, color=\"red\", label=\"predicted\")\n",
        "plt.title(\"Air Quality Index test and predicted data\")\n",
        "plt.legend()\n",
        "plt.show()"
      ],
      "execution_count": null,
      "outputs": [
        {
          "output_type": "display_data",
          "data": {
            "image/png": "[encoded data removed]",
            "text/plain": [
              "<Figure size 432x288 with 1 Axes>"
            ]
          },
          "metadata": {
            "needs_background": "light"
          }
        }
      ]
    },
    {
      "cell_type": "markdown",
      "metadata": {
        "id": "ghiAsysTomfT"
      },
      "source": [
        "## Hyperparameter Tuning - Extra Trees Regressor"
      ]
    },
    {
      "cell_type": "code",
      "metadata": {
        "id": "5wnCGB0oomGK"
      },
      "source": [
        "from sklearn.model_selection import RandomizedSearchCV"
      ],
      "execution_count": null,
      "outputs": []
    },
    {
      "cell_type": "code",
      "metadata": {
        "id": "NQHtqRtapKmX"
      },
      "source": [
        "#Randomized Search CV\n",
        "\n",
        "# Number of trees in random forest\n",
        "n_estimators = [int(x) for x in np.linspace(start = 100, stop = 1200, num = 12)]\n",
        "# Number of features to consider at every split\n",
        "max_features = ['auto', 'sqrt']\n",
        "# Minimum number of samples required to split a node\n",
        "min_samples_split = [2, 5, 10, 15, 100]"
      ],
      "execution_count": null,
      "outputs": []
    },
    {
      "cell_type": "code",
      "metadata": {
        "id": "WYnvHlqRpNqK"
      },
      "source": [
        "# Create the random grid\n",
        "\n",
        "random_grid = {'n_estimators': n_estimators,\n",
        "               'max_features': max_features,\n",
        "               'min_samples_split': min_samples_split}"
      ],
      "execution_count": null,
      "outputs": []
    },
    {
      "cell_type": "code",
      "metadata": {
        "id": "7bediym0pPwC"
      },
      "source": [
        "# Random search of parameters, using 5 fold cross validation, \n",
        "# search across 100 different combinations\n",
        "extr_random = RandomizedSearchCV(estimator = etr, param_distributions = random_grid,scoring='neg_mean_squared_error', n_iter = 10, cv = 5, verbose=2, random_state=42, n_jobs = 1)"
      ],
      "execution_count": null,
      "outputs": []
    },
    {
      "cell_type": "code",
      "metadata": {
        "colab": {
          "base_uri": "https://localhost:8080/"
        },
        "id": "pe77HlWwpQSL",
        "outputId": "9cfa9e5d-ab88-40aa-98fd-27a62b9c6ef5"
      },
      "source": [
        "extr_random.fit(X_train,y_train)"
      ],
      "execution_count": null,
      "outputs": [
        {
          "output_type": "stream",
          "name": "stdout",
          "text": [
            "Fitting 5 folds for each of 10 candidates, totalling 50 fits\n",
            "[CV] n_estimators=900, min_samples_split=15, max_features=auto .......\n"
          ]
        },
        {
          "output_type": "stream",
          "name": "stderr",
          "text": [
            "[Parallel(n_jobs=1)]: Using backend SequentialBackend with 1 concurrent workers.\n"
          ]
        },
        {
          "output_type": "stream",
          "name": "stdout",
          "text": [
            "[CV]  n_estimators=900, min_samples_split=15, max_features=auto, total=  31.7s\n",
            "[CV] n_estimators=900, min_samples_split=15, max_features=auto .......\n"
          ]
        },
        {
          "output_type": "stream",
          "name": "stderr",
          "text": [
            "[Parallel(n_jobs=1)]: Done   1 out of   1 | elapsed:   31.7s remaining:    0.0s\n"
          ]
        },
        {
          "output_type": "stream",
          "name": "stdout",
          "text": [
            "[CV]  n_estimators=900, min_samples_split=15, max_features=auto, total=  31.0s\n",
            "[CV] n_estimators=900, min_samples_split=15, max_features=auto .......\n",
            "[CV]  n_estimators=900, min_samples_split=15, max_features=auto, total=  31.0s\n",
            "[CV] n_estimators=900, min_samples_split=15, max_features=auto .......\n",
            "[CV]  n_estimators=900, min_samples_split=15, max_features=auto, total=  30.9s\n",
            "[CV] n_estimators=900, min_samples_split=15, max_features=auto .......\n",
            "[CV]  n_estimators=900, min_samples_split=15, max_features=auto, total=  31.2s\n",
            "[CV] n_estimators=1200, min_samples_split=15, max_features=auto ......\n",
            "[CV]  n_estimators=1200, min_samples_split=15, max_features=auto, total=  41.7s\n",
            "[CV] n_estimators=1200, min_samples_split=15, max_features=auto ......\n",
            "[CV]  n_estimators=1200, min_samples_split=15, max_features=auto, total=  41.3s\n",
            "[CV] n_estimators=1200, min_samples_split=15, max_features=auto ......\n",
            "[CV]  n_estimators=1200, min_samples_split=15, max_features=auto, total=  41.3s\n",
            "[CV] n_estimators=1200, min_samples_split=15, max_features=auto ......\n",
            "[CV]  n_estimators=1200, min_samples_split=15, max_features=auto, total=  41.3s\n",
            "[CV] n_estimators=1200, min_samples_split=15, max_features=auto ......\n",
            "[CV]  n_estimators=1200, min_samples_split=15, max_features=auto, total=  41.8s\n",
            "[CV] n_estimators=500, min_samples_split=2, max_features=auto ........\n",
            "[CV]  n_estimators=500, min_samples_split=2, max_features=auto, total=  32.3s\n",
            "[CV] n_estimators=500, min_samples_split=2, max_features=auto ........\n",
            "[CV]  n_estimators=500, min_samples_split=2, max_features=auto, total=  31.7s\n",
            "[CV] n_estimators=500, min_samples_split=2, max_features=auto ........\n",
            "[CV]  n_estimators=500, min_samples_split=2, max_features=auto, total=  31.7s\n",
            "[CV] n_estimators=500, min_samples_split=2, max_features=auto ........\n",
            "[CV]  n_estimators=500, min_samples_split=2, max_features=auto, total=  32.0s\n",
            "[CV] n_estimators=500, min_samples_split=2, max_features=auto ........\n",
            "[CV]  n_estimators=500, min_samples_split=2, max_features=auto, total=  31.6s\n",
            "[CV] n_estimators=800, min_samples_split=100, max_features=auto ......\n",
            "[CV]  n_estimators=800, min_samples_split=100, max_features=auto, total=  18.0s\n",
            "[CV] n_estimators=800, min_samples_split=100, max_features=auto ......\n",
            "[CV]  n_estimators=800, min_samples_split=100, max_features=auto, total=  17.7s\n",
            "[CV] n_estimators=800, min_samples_split=100, max_features=auto ......\n",
            "[CV]  n_estimators=800, min_samples_split=100, max_features=auto, total=  17.8s\n",
            "[CV] n_estimators=800, min_samples_split=100, max_features=auto ......\n",
            "[CV]  n_estimators=800, min_samples_split=100, max_features=auto, total=  17.8s\n",
            "[CV] n_estimators=800, min_samples_split=100, max_features=auto ......\n",
            "[CV]  n_estimators=800, min_samples_split=100, max_features=auto, total=  17.8s\n",
            "[CV] n_estimators=300, min_samples_split=10, max_features=auto .......\n",
            "[CV]  n_estimators=300, min_samples_split=10, max_features=auto, total=  11.8s\n",
            "[CV] n_estimators=300, min_samples_split=10, max_features=auto .......\n",
            "[CV]  n_estimators=300, min_samples_split=10, max_features=auto, total=  11.5s\n",
            "[CV] n_estimators=300, min_samples_split=10, max_features=auto .......\n",
            "[CV]  n_estimators=300, min_samples_split=10, max_features=auto, total=  11.6s\n",
            "[CV] n_estimators=300, min_samples_split=10, max_features=auto .......\n",
            "[CV]  n_estimators=300, min_samples_split=10, max_features=auto, total=  11.5s\n",
            "[CV] n_estimators=300, min_samples_split=10, max_features=auto .......\n",
            "[CV]  n_estimators=300, min_samples_split=10, max_features=auto, total=  11.5s\n",
            "[CV] n_estimators=500, min_samples_split=2, max_features=sqrt ........\n",
            "[CV]  n_estimators=500, min_samples_split=2, max_features=sqrt, total=  12.3s\n",
            "[CV] n_estimators=500, min_samples_split=2, max_features=sqrt ........\n",
            "[CV]  n_estimators=500, min_samples_split=2, max_features=sqrt, total=  12.2s\n",
            "[CV] n_estimators=500, min_samples_split=2, max_features=sqrt ........\n",
            "[CV]  n_estimators=500, min_samples_split=2, max_features=sqrt, total=  12.4s\n",
            "[CV] n_estimators=500, min_samples_split=2, max_features=sqrt ........\n",
            "[CV]  n_estimators=500, min_samples_split=2, max_features=sqrt, total=  12.2s\n",
            "[CV] n_estimators=500, min_samples_split=2, max_features=sqrt ........\n",
            "[CV]  n_estimators=500, min_samples_split=2, max_features=sqrt, total=  12.3s\n",
            "[CV] n_estimators=200, min_samples_split=5, max_features=sqrt ........\n",
            "[CV]  n_estimators=200, min_samples_split=5, max_features=sqrt, total=   3.6s\n",
            "[CV] n_estimators=200, min_samples_split=5, max_features=sqrt ........\n",
            "[CV]  n_estimators=200, min_samples_split=5, max_features=sqrt, total=   3.5s\n",
            "[CV] n_estimators=200, min_samples_split=5, max_features=sqrt ........\n",
            "[CV]  n_estimators=200, min_samples_split=5, max_features=sqrt, total=   3.5s\n",
            "[CV] n_estimators=200, min_samples_split=5, max_features=sqrt ........\n",
            "[CV]  n_estimators=200, min_samples_split=5, max_features=sqrt, total=   3.5s\n",
            "[CV] n_estimators=200, min_samples_split=5, max_features=sqrt ........\n",
            "[CV]  n_estimators=200, min_samples_split=5, max_features=sqrt, total=   3.5s\n",
            "[CV] n_estimators=1100, min_samples_split=2, max_features=auto .......\n",
            "[CV]  n_estimators=1100, min_samples_split=2, max_features=auto, total= 1.2min\n",
            "[CV] n_estimators=1100, min_samples_split=2, max_features=auto .......\n",
            "[CV]  n_estimators=1100, min_samples_split=2, max_features=auto, total= 1.2min\n",
            "[CV] n_estimators=1100, min_samples_split=2, max_features=auto .......\n",
            "[CV]  n_estimators=1100, min_samples_split=2, max_features=auto, total= 1.2min\n",
            "[CV] n_estimators=1100, min_samples_split=2, max_features=auto .......\n",
            "[CV]  n_estimators=1100, min_samples_split=2, max_features=auto, total= 1.2min\n",
            "[CV] n_estimators=1100, min_samples_split=2, max_features=auto .......\n",
            "[CV]  n_estimators=1100, min_samples_split=2, max_features=auto, total= 1.2min\n",
            "[CV] n_estimators=500, min_samples_split=15, max_features=auto .......\n",
            "[CV]  n_estimators=500, min_samples_split=15, max_features=auto, total=  17.4s\n",
            "[CV] n_estimators=500, min_samples_split=15, max_features=auto .......\n",
            "[CV]  n_estimators=500, min_samples_split=15, max_features=auto, total=  17.2s\n",
            "[CV] n_estimators=500, min_samples_split=15, max_features=auto .......\n",
            "[CV]  n_estimators=500, min_samples_split=15, max_features=auto, total=  17.2s\n",
            "[CV] n_estimators=500, min_samples_split=15, max_features=auto .......\n",
            "[CV]  n_estimators=500, min_samples_split=15, max_features=auto, total=  17.2s\n",
            "[CV] n_estimators=500, min_samples_split=15, max_features=auto .......\n",
            "[CV]  n_estimators=500, min_samples_split=15, max_features=auto, total=  17.1s\n",
            "[CV] n_estimators=1200, min_samples_split=15, max_features=sqrt ......\n",
            "[CV]  n_estimators=1200, min_samples_split=15, max_features=sqrt, total=  15.3s\n",
            "[CV] n_estimators=1200, min_samples_split=15, max_features=sqrt ......\n",
            "[CV]  n_estimators=1200, min_samples_split=15, max_features=sqrt, total=  15.5s\n",
            "[CV] n_estimators=1200, min_samples_split=15, max_features=sqrt ......\n",
            "[CV]  n_estimators=1200, min_samples_split=15, max_features=sqrt, total=  15.6s\n",
            "[CV] n_estimators=1200, min_samples_split=15, max_features=sqrt ......\n",
            "[CV]  n_estimators=1200, min_samples_split=15, max_features=sqrt, total=  15.7s\n",
            "[CV] n_estimators=1200, min_samples_split=15, max_features=sqrt ......\n",
            "[CV]  n_estimators=1200, min_samples_split=15, max_features=sqrt, total=  15.5s\n"
          ]
        },
        {
          "output_type": "stream",
          "name": "stderr",
          "text": [
            "[Parallel(n_jobs=1)]: Done  50 out of  50 | elapsed: 21.1min finished\n"
          ]
        },
        {
          "output_type": "execute_result",
          "data": {
            "text/plain": [
              "RandomizedSearchCV(cv=5, error_score=nan,\n",
              "                   estimator=ExtraTreesRegressor(bootstrap=False, ccp_alpha=0.0,\n",
              "                                                 criterion='mse',\n",
              "                                                 max_depth=None,\n",
              "                                                 max_features='auto',\n",
              "                                                 max_leaf_nodes=None,\n",
              "                                                 max_samples=None,\n",
              "                                                 min_impurity_decrease=0.0,\n",
              "                                                 min_impurity_split=None,\n",
              "                                                 min_samples_leaf=1,\n",
              "                                                 min_samples_split=2,\n",
              "                                                 min_weight_fraction_leaf=0.0,\n",
              "                                                 n_estimators=100, n_jobs=None,\n",
              "                                                 oob_score=False,\n",
              "                                                 random_state=None, verbose=0,\n",
              "                                                 warm_start=False),\n",
              "                   iid='deprecated', n_iter=10, n_jobs=1,\n",
              "                   param_distributions={'max_features': ['auto', 'sqrt'],\n",
              "                                        'min_samples_split': [2, 5, 10, 15,\n",
              "                                                              100],\n",
              "                                        'n_estimators': [100, 200, 300, 400,\n",
              "                                                         500, 600, 700, 800,\n",
              "                                                         900, 1000, 1100,\n",
              "                                                         1200]},\n",
              "                   pre_dispatch='2*n_jobs', random_state=42, refit=True,\n",
              "                   return_train_score=False, scoring='neg_mean_squared_error',\n",
              "                   verbose=2)"
            ]
          },
          "metadata": {},
          "execution_count": 198
        }
      ]
    },
    {
      "cell_type": "code",
      "metadata": {
        "colab": {
          "base_uri": "https://localhost:8080/"
        },
        "id": "kW1nsfTKpUwn",
        "outputId": "eca5480b-ac84-4bf9-a152-bd8c67ee768b"
      },
      "source": [
        "extr_random.best_params_"
      ],
      "execution_count": null,
      "outputs": [
        {
          "output_type": "execute_result",
          "data": {
            "text/plain": [
              "{'max_features': 'auto', 'min_samples_split': 15, 'n_estimators': 500}"
            ]
          },
          "metadata": {},
          "execution_count": 199
        }
      ]
    },
    {
      "cell_type": "code",
      "metadata": {
        "id": "pyGGqCvMpWSE"
      },
      "source": [
        "y_pred = extr_random.predict(X_test)\n",
        "y_train_pred = extr_random.predict(X_train)"
      ],
      "execution_count": null,
      "outputs": []
    },
    {
      "cell_type": "code",
      "metadata": {
        "colab": {
          "base_uri": "https://localhost:8080/"
        },
        "id": "VBVg8EvtpYAY",
        "outputId": "145c608b-8f7c-410a-d9b2-662408f56553"
      },
      "source": [
        "Model_evaluate(y_train_pred, y_train)"
      ],
      "execution_count": null,
      "outputs": [
        {
          "output_type": "stream",
          "name": "stdout",
          "text": [
            "MAE: 10.199374839741553\n",
            "MSE: 267.7758369318902\n",
            "RMSE: 16.36385764212981\n",
            "R-squared value:  0.9743384963916343\n"
          ]
        }
      ]
    },
    {
      "cell_type": "code",
      "metadata": {
        "colab": {
          "base_uri": "https://localhost:8080/"
        },
        "id": "xiIwsoqipaYE",
        "outputId": "29c3e4e8-ff40-4d40-9893-2bb3f6648ab7"
      },
      "source": [
        "Model_evaluate(y_pred, y_test)"
      ],
      "execution_count": null,
      "outputs": [
        {
          "output_type": "stream",
          "name": "stdout",
          "text": [
            "MAE: 16.606654213271312\n",
            "MSE: 726.4789102388384\n",
            "RMSE: 26.953272718518587\n",
            "R-squared value:  0.9310511246156323\n"
          ]
        }
      ]
    }
  ]
}